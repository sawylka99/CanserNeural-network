{
 "cells": [
  {
   "attachments": {},
   "cell_type": "markdown",
   "metadata": {},
   "source": [
    "## Нейронная сеть для классификации опухолей"
   ]
  },
  {
   "cell_type": "code",
   "execution_count": 1,
   "metadata": {
    "colab": {},
    "colab_type": "code",
    "id": "Y62le--iNQ_g"
   },
   "outputs": [
    {
     "name": "stderr",
     "output_type": "stream",
     "text": [
      "m:\\Anaconda\\lib\\site-packages\\scipy\\__init__.py:146: UserWarning: A NumPy version >=1.16.5 and <1.23.0 is required for this version of SciPy (detected version 1.23.1\n",
      "  warnings.warn(f\"A NumPy version >={np_minversion} and <{np_maxversion}\"\n"
     ]
    }
   ],
   "source": [
    "import sklearn.datasets # библиотека для скачивания датасета \n",
    "import numpy as np\n",
    "import matplotlib.pyplot as plt\n",
    "import threading\n",
    "plt.style.use(\"seaborn\")"
   ]
  },
  {
   "attachments": {},
   "cell_type": "markdown",
   "metadata": {
    "colab_type": "text",
    "id": "AYxDp-YaUEEC"
   },
   "source": [
    "# Загрузка датасета"
   ]
  },
  {
   "cell_type": "code",
   "execution_count": 4,
   "metadata": {
    "colab": {},
    "colab_type": "code",
    "id": "ClBCeOpjPvw3"
   },
   "outputs": [
    {
     "data": {
      "text/plain": [
       "array(['mean radius', 'mean texture', 'mean perimeter', 'mean area',\n",
       "       'mean smoothness', 'mean compactness', 'mean concavity',\n",
       "       'mean concave points', 'mean symmetry', 'mean fractal dimension',\n",
       "       'radius error', 'texture error', 'perimeter error', 'area error',\n",
       "       'smoothness error', 'compactness error', 'concavity error',\n",
       "       'concave points error', 'symmetry error',\n",
       "       'fractal dimension error', 'worst radius', 'worst texture',\n",
       "       'worst perimeter', 'worst area', 'worst smoothness',\n",
       "       'worst compactness', 'worst concavity', 'worst concave points',\n",
       "       'worst symmetry', 'worst fractal dimension'], dtype='<U23')"
      ]
     },
     "execution_count": 4,
     "metadata": {},
     "output_type": "execute_result"
    }
   ],
   "source": [
    "breast_cancer = sklearn.datasets.load_breast_cancer() # Скачиваем датасет\n",
    "breast_cancer.feature_names\n"
   ]
  },
  {
   "attachments": {},
   "cell_type": "markdown",
   "metadata": {
    "colab_type": "text",
    "id": "TQOa8tuKWmEx"
   },
   "source": [
    "# Разделение на обучающую и тестовые выборки"
   ]
  },
  {
   "cell_type": "code",
   "execution_count": 5,
   "metadata": {},
   "outputs": [],
   "source": [
    "# Отделяем данные из датасета\n",
    "dataset = [(breast_cancer.data[i][None, ...], breast_cancer.target[i]) for i in range(len(breast_cancer.target))]\n",
    "trainSize = 0.9 # Доля данных для обучения\n",
    "train_len = int(len(dataset) * trainSize) # Размер данных для обучения\n",
    "# Разделяем данные для обучения и для теста где 90% для обучения и 10% для теста\n",
    "X_train, Y_train = zip(*dataset[:train_len])\n",
    "X_test, Y_test = zip(*dataset[train_len:])\n",
    "X_train = np.concatenate(X_train, axis=0)\n",
    "X_test = np.concatenate(X_test, axis=0)\n"
   ]
  },
  {
   "attachments": {},
   "cell_type": "markdown",
   "metadata": {
    "colab_type": "text",
    "id": "OdMOCKAvs4JO"
   },
   "source": [
    "# Класс нейронной сети"
   ]
  },
  {
   "cell_type": "code",
   "execution_count": 6,
   "metadata": {
    "colab": {},
    "colab_type": "code",
    "id": "rG0tKLsUxQ9b"
   },
   "outputs": [],
   "source": [
    "class Perceptron:\n",
    "    \n",
    "    def __init__ (self):\n",
    "        \"Объявление весов и смещения\"\n",
    "        self.w = None\n",
    "        self.b = None\n",
    "            \n",
    "    def model(self, x):\n",
    "        \"Функция активации, ступенька\"\n",
    "        return 1 if (np.dot(self.w, x) >= self.b) else 0\n",
    "    \n",
    "    def predict(self, X):\n",
    "        \"Предсказание нейронной сети\"\n",
    "        Y = []\n",
    "        for x in X:\n",
    "            result = self.model(x)\n",
    "            Y.append(result)\n",
    "        return np.array(Y)\n",
    "\n",
    "    def calc_accuracy(self, Y_pred_test, Y_test):\n",
    "        \"Рассчет точности предсказаний\"\n",
    "        correct = 0\n",
    "        for predict, test in zip(Y_pred_test, Y_test):\n",
    "            if predict == test:\n",
    "                correct += 1\n",
    "        acc = correct / len(Y_pred_test)\n",
    "        return acc\n",
    "    \n",
    "    def fit(self, X, Y, epochs = 1, lr = 1):\n",
    "        \"Обучение нейронной сети\"\n",
    "        self.w = np.ones(X.shape[1])\n",
    "        self.b = 0\n",
    "        \n",
    "        accuracy = {}\n",
    "        max_accuracy = 0\n",
    "\n",
    "        wt_matrix = []\n",
    "\n",
    "        for i in range(epochs):\n",
    "            for x, y in zip(X, Y):\n",
    "                y_pred = self.model(x)\n",
    "                if y == 1 and y_pred == 0:\n",
    "                    self.w = self.w + lr * x\n",
    "                    self.b = self.b - lr * 1\n",
    "                elif y == 0 and y_pred == 1:\n",
    "                    self.w = self.w - lr * x\n",
    "                    self.b = self.b + lr * 1\n",
    "\n",
    "            wt_matrix.append(self.w)    \n",
    "            accuracy[i] = self.calc_accuracy(self.predict(X), Y)\n",
    "            if (accuracy[i] > max_accuracy):\n",
    "                max_accuracy = accuracy[i]\n",
    "                j = i\n",
    "                chkptw = self.w\n",
    "                chkptb = self.b\n",
    "\n",
    "        self.w = chkptw\n",
    "        self.b = chkptb\n",
    "\n",
    "        print(max_accuracy,j)\n",
    "        plt.plot(list(accuracy.values()))\n",
    "        plt.xlabel(\"Epoch #\")\n",
    "        plt.ylabel(\"Accuracy\")\n",
    "        plt.ylim([0, 1])\n",
    "        plt.show()\n",
    "\n",
    "        return np.array(wt_matrix)"
   ]
  },
  {
   "cell_type": "code",
   "execution_count": 7,
   "metadata": {
    "colab": {},
    "colab_type": "code",
    "id": "rYc6A9E2wrns"
   },
   "outputs": [],
   "source": [
    "perceptron = Perceptron()\n"
   ]
  },
  {
   "cell_type": "code",
   "execution_count": 8,
   "metadata": {
    "colab": {
     "base_uri": "https://localhost:8080/",
     "height": 382
    },
    "colab_type": "code",
    "id": "R4IcxePAw49U",
    "outputId": "8e714636-d17c-4da6-8a2d-8d03219b1974",
    "scrolled": false
   },
   "outputs": [
    {
     "name": "stdout",
     "output_type": "stream",
     "text": [
      "0.95703125 34060\n"
     ]
    },
    {
     "data": {
      "image/png": "[encoded data removed]",
      "text/plain": [
       "<Figure size 432x288 with 1 Axes>"
      ]
     },
     "metadata": {
      "needs_background": "light"
     },
     "output_type": "display_data"
    }
   ],
   "source": [
    "wt_matrix = perceptron.fit(X_train, Y_train, 40000, 0.3)"
   ]
  },
  {
   "cell_type": "code",
   "execution_count": 9,
   "metadata": {},
   "outputs": [
    {
     "name": "stdout",
     "output_type": "stream",
     "text": [
      "0.9298245614035088\n"
     ]
    }
   ],
   "source": [
    "def calc_accuracy(Y_pred_test, Y_test):\n",
    "        correct = 0\n",
    "        for predict, test in zip(Y_pred_test, Y_test):\n",
    "            if predict == test:\n",
    "                correct += 1\n",
    "        acc = correct / len(Y_pred_test)\n",
    "        return acc\n",
    "Y_pred_test = perceptron.predict(X_test)\n",
    "print(calc_accuracy(Y_pred_test, Y_test))\n"
   ]
  },
  {
   "cell_type": "code",
   "execution_count": 14,
   "metadata": {},
   "outputs": [],
   "source": [
    "perceptron1 = Perceptron()\n"
   ]
  },
  {
   "cell_type": "code",
   "execution_count": 19,
   "metadata": {},
   "outputs": [
    {
     "name": "stdout",
     "output_type": "stream",
     "text": [
      "0.984375 8711\n"
     ]
    },
    {
     "data": {
      "image/png": "[encoded data removed]",
      "text/plain": [
       "<Figure size 432x288 with 1 Axes>"
      ]
     },
     "metadata": {
      "needs_background": "light"
     },
     "output_type": "display_data"
    },
    {
     "name": "stdout",
     "output_type": "stream",
     "text": [
      "0.96875 404\n"
     ]
    },
    {
     "data": {
      "image/png": "[encoded data removed]",
      "text/plain": [
       "<Figure size 432x288 with 1 Axes>"
      ]
     },
     "metadata": {
      "needs_background": "light"
     },
     "output_type": "display_data"
    },
    {
     "name": "stdout",
     "output_type": "stream",
     "text": [
      "0.9609375 3656\n"
     ]
    },
    {
     "data": {
      "image/png": "[encoded data removed]",
      "text/plain": [
       "<Figure size 432x288 with 1 Axes>"
      ]
     },
     "metadata": {
      "needs_background": "light"
     },
     "output_type": "display_data"
    },
    {
     "name": "stdout",
     "output_type": "stream",
     "text": [
      "0.9765625 944\n"
     ]
    },
    {
     "data": {
      "image/png": "[encoded data removed]",
      "text/plain": [
       "<Figure size 432x288 with 1 Axes>"
      ]
     },
     "metadata": {
      "needs_background": "light"
     },
     "output_type": "display_data"
    }
   ],
   "source": [
    "batchSize = 128\n",
    "count = len(X_train) // batchSize\n",
    "tread_arr = []\n",
    "for i in range(count):\n",
    "    X_batch = X_train[i * batchSize: i * batchSize + batchSize]\n",
    "    Y_batch = Y_train[i * batchSize: i * batchSize + batchSize]\n",
    "    thread = threading.Thread(target=perceptron1.fit, args=(X_batch, Y_batch, 10000, 0.3,))\n",
    "    tread_arr.append(thread)\n",
    "    thread.start()\n",
    "for i in range(count):   \n",
    "    tread_arr[i].join()  "
   ]
  },
  {
   "cell_type": "code",
   "execution_count": 21,
   "metadata": {
    "colab": {
     "base_uri": "https://localhost:8080/",
     "height": 286
    },
    "colab_type": "code",
    "id": "RV_uQBBKSweN",
    "outputId": "2275dd8e-fbff-4c68-83a3-df3974fc0255"
   },
   "outputs": [
    {
     "name": "stdout",
     "output_type": "stream",
     "text": [
      "0.9649122807017544\n"
     ]
    }
   ],
   "source": [
    "def calc_accuracy(Y_pred_test, Y_test):\n",
    "        correct = 0\n",
    "        for predict, test in zip(Y_pred_test, Y_test):\n",
    "            if predict == test:\n",
    "                correct += 1\n",
    "        acc = correct / len(Y_pred_test)\n",
    "        return acc\n",
    "Y_pred_test = perceptron1.predict(X_test)\n",
    "print(calc_accuracy(Y_pred_test, Y_test))\n"
   ]
  },
  {
   "cell_type": "code",
   "execution_count": null,
   "metadata": {},
   "outputs": [],
   "source": []
  },
  {
   "cell_type": "code",
   "execution_count": null,
   "metadata": {},
   "outputs": [],
   "source": []
  }
 ],
 "metadata": {
  "colab": {
   "collapsed_sections": [
    "fT9sC0UKb12E",
    "HsV1gX3Ge-WC",
    "nNPjMZiwvwp6"
   ],
   "name": "PerceptronModel.ipynb",
   "provenance": [],
   "version": "0.3.2"
  },
  "kernelspec": {
   "display_name": "base",
   "language": "python",
   "name": "python3"
  },
  "language_info": {
   "codemirror_mode": {
    "name": "ipython",
    "version": 3
   },
   "file_extension": ".py",
   "mimetype": "text/x-python",
   "name": "python",
   "nbconvert_exporter": "python",
   "pygments_lexer": "ipython3",
   "version": "3.8.10 (default, May 19 2021, 13:12:57) [MSC v.1916 64 bit (AMD64)]"
  },
  "vscode": {
   "interpreter": {
    "hash": "5fa7ff38c23c1f294768a66a1b3f13d092e37c4f40f8d64d3753bb81a15c2f29"
   }
  }
 },
 "nbformat": 4,
 "nbformat_minor": 1
}
